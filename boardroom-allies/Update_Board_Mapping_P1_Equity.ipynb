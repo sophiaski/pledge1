{
 "cells": [
  {
   "cell_type": "markdown",
   "metadata": {},
   "source": [
    "# Update board mapping for Pledge 1% equity companies\n",
    "\n",
    "**Last Updated: January 22, 2021** | Created by <a href='https://www.linkedin.com/in/sophiaskowronski/'>Sophia Skowronski</a> | Data sourced from the <a href='http://www.crunchbase.com/'>Crunchbase API</a> via Pledge 1%'s Enterprise License Agreement\n",
    "\n",
    "Given an input company list, generate dataframe of customized strings of affiliated individuals and companies:\n",
    "- Current Board Members\n",
    "- Former Board Members\n",
    "- Current Board Advisors/Observers\n",
    "- Former Board Advisors/Observers\n",
    "- All Investors\n",
    "- All Investors, grouped by financing type\n",
    "\n",
    "Then, push dataframe to Boardroom Allies Tracker Google spreadsheet."
   ]
  },
  {
   "cell_type": "markdown",
   "metadata": {},
   "source": [
    "## Upload P1 equity company names into `search_input`"
   ]
  },
  {
   "cell_type": "code",
   "execution_count": 1,
   "metadata": {},
   "outputs": [],
   "source": [
    "# Import relevant libraries\n",
    "import pandas as pd\n",
    "\n",
    "# Connect Google developer account\n",
    "import gspread \n",
    "from oauth2client.service_account import ServiceAccountCredentials\n",
    "scope = ['https://spreadsheets.google.com/feeds']\n",
    "credentials = ServiceAccountCredentials.from_json_keyfile_name('./sincere-essence-302420-4e3b88e53a60.json', scope)\n",
    "gc = gspread.authorize(credentials)\n",
    "\n",
    "# Load in Google Sheet & Board Mapping tab\n",
    "spreadsheet_key = '1HkZaTlfSII1HNyZb-3KOwco5wvyH4DAc0y3n92EyEU8'\n",
    "book = gc.open_by_key(spreadsheet_key)\n",
    "worksheet = book.worksheet('Board Mapping')\n",
    "table = worksheet.get_all_values()\n",
    "\n",
    "# Convert table data into a dataframe\n",
    "BoardMapping = pd.DataFrame(table[1:], columns=table[0])\n",
    "\n",
    "#########################################\n",
    "# PUT COMPANY NAMES INTO `search_input` #\n",
    "#########################################\n",
    "\n",
    "# P1 equity company list\n",
    "search_input = BoardMapping['Company'].unique().tolist()\n",
    "\n",
    "# Write input to text file\n",
    "with open('input.txt', 'w') as f:\n",
    "    for idx,item in enumerate(search_input):\n",
    "        if idx != len(search_input)-1:\n",
    "            f.write('%s\\n' % item)\n",
    "        else:\n",
    "            f.write('%s' % item)"
   ]
  },
  {
   "cell_type": "markdown",
   "metadata": {},
   "source": [
    "## Run `company_mapper.py`"
   ]
  },
  {
   "cell_type": "code",
   "execution_count": 2,
   "metadata": {
    "scrolled": false
   },
   "outputs": [
    {
     "name": "stdout",
     "output_type": "stream",
     "text": [
      "COUNT TO 39: 1 2 3 4 5 6 7 8 9 10 11 12 13 14 15 16 17 18 19 20 21 22 23 24 25 26 27 28 29 30 31 32 33 34 35 36 37 38 39 \n",
      "\n",
      "AFFILIATIONS\n",
      "Number of companies: 39\n",
      "Total affiliations found: 574\n",
      "Total unique affiliations found: 507\n",
      "\n",
      "Count of primary_info API calls, number of unique individuals found in query:\n",
      "1 2 3 4 5 6 7 8 9 10 11 12 13 14 15 16 17 18 19 20 21 22 23 24 25 26 27 28 29 30 31 32 33 34 35 36 37 38 39 40 41 42 43 44 45 46 47 48 49 50 51 52 53 54 55 56 57 58 59 60 61 62 63 64 65 66 67 68 69 70 71 72 73 74 75 76 77 78 79 80 81 82 83 84 85 86 87 88 89 90 91 92 93 94 95 96 97 98 99 100 101 102 103 104 105 106 107 108 109 110 111 112 113 114 115 116 117 118 119 120 121 122 123 124 125 126 127 128 129 130 131 132 133 134 135 136 137 138 139 140 141 142 143 144 145 146 147 148 149 150 151 152 153 154 155 156 157 158 159 160 161 162 163 164 165 166 167 168 169 170 171 172 173 174 175 176 177 178 179 180 181 182 183 184 185 186 187 188 189 190 191 192 193 194 195 196 197 198 199 200 201 202 203 204 205 206 207 208 209 210 211 212 213 214 215 216 217 218 219 220 221 222 223 224 225 226 227 228 229 230 231 232 233 234 235 236 237 238 239 240 241 242 243 244 245 246 247 248 249 250 251 252 253 254 255 256 257 258 259 260 261 262 263 264 265 266 267 268 269 270 271 272 273 274 275 276 277 278 279 280 281 282 283 284 285 286 287 288 289 290 291 292 293 294 295 296 297 298 299 300 301 302 303 304 305 306 307 308 309 310 311 312 313 314 315 316 317 318 319 320 321 322 323 324 325 326 327 328 329 330 331 332 333 334 335 336 337 338 339 340 341 342 343 344 345 346 347 348 349 350 351 352 353 354 355 356 357 358 359 360 361 362 363 364 365 366 367 368 369 370 371 372 373 374 375 376 377 378 379 380 381 382 383 384 385 386 387 388 389 390 391 392 393 394 395 396 397 398 399 400 401 402 403 404 405 406 407 408 409 410 411 412 413 414 415 416 417 418 419 420 421 422 423 424 425 426 427 428 429 430 431 432 433 434 435 436 437 438 439 440 441 442 443 444 445 446 447 448 449 450 451 452 453 454 455 456 457 458 459 460 461 462 463 464 465 466 467 468 469 470 471 472 473 474 475 476 477 478 479 480 481 482 483 484 485 486 487 488 489 490 491 492 493 494 495 496 497 498 499 500 501 502 503 504 505 506 507 \n",
      "\n",
      "96 out of 507 records are missing either a primary job title, primary organization, or LinkedIn url.\n",
      "\n",
      "INVESTMENTS\n",
      "Number of companies: 39\n",
      "Total investments found: 1334\n",
      "Total unique investors found: 553\n",
      "\n",
      "\n",
      "RESULTS WRITTEN TO output.csv\n",
      "CPU times: user 4.89 s, sys: 1.01 s, total: 5.91 s\n",
      "Wall time: 3min 13s\n"
     ]
    },
    {
     "data": {
      "text/html": [
       "<div>\n",
       "<style scoped>\n",
       "    .dataframe tbody tr th:only-of-type {\n",
       "        vertical-align: middle;\n",
       "    }\n",
       "\n",
       "    .dataframe tbody tr th {\n",
       "        vertical-align: top;\n",
       "    }\n",
       "\n",
       "    .dataframe thead th {\n",
       "        text-align: right;\n",
       "    }\n",
       "</style>\n",
       "<table border=\"1\" class=\"dataframe\">\n",
       "  <thead>\n",
       "    <tr style=\"text-align: right;\">\n",
       "      <th></th>\n",
       "      <th>Company</th>\n",
       "      <th>Current Board Members</th>\n",
       "      <th>Former Board Members</th>\n",
       "      <th>Current Board Advisors/Observers</th>\n",
       "      <th>Former Board Advisors/Observers</th>\n",
       "      <th>Investors (All)</th>\n",
       "      <th>Investors (w/ Info)</th>\n",
       "      <th>Company UUID</th>\n",
       "    </tr>\n",
       "  </thead>\n",
       "  <tbody>\n",
       "    <tr>\n",
       "      <th>1</th>\n",
       "      <td>Atlassian</td>\n",
       "      <td>Enrique Salem (Bain Capital Ventures); Heather...</td>\n",
       "      <td>Doug Burgum; Jay Parikh (Facebook); Kirk Bowma...</td>\n",
       "      <td></td>\n",
       "      <td></td>\n",
       "      <td>Accel; Dragoneer Investment Group; ESO Fund; T...</td>\n",
       "      <td>Secondary Market (Accel; Dragoneer Investment ...</td>\n",
       "      <td>7cb65346-6b0f-b133-ed27-21fcb25104ad</td>\n",
       "    </tr>\n",
       "    <tr>\n",
       "      <th>26</th>\n",
       "      <td>Salesforce</td>\n",
       "      <td>Alan Hassenfeld (Salesforce); Colin Powell (Kl...</td>\n",
       "      <td>Allen Miner (SunBridge); Craig Ramsey (Vlocity...</td>\n",
       "      <td>Andrea Gaspar; Eiji Uda; Julie Hansen; Sandi M...</td>\n",
       "      <td>Geoffrey Moore (Wildcat Venture Partners); Yia...</td>\n",
       "      <td>Allen Miner; Attractor Investment Management; ...</td>\n",
       "      <td>Series A (Dave Moellenhoff; Marc Benioff; Park...</td>\n",
       "      <td>f5c477fa-6e8c-3d64-4f2d-3603e5cc3340</td>\n",
       "    </tr>\n",
       "  </tbody>\n",
       "</table>\n",
       "</div>"
      ],
      "text/plain": [
       "       Company                              Current Board Members  \\\n",
       "1    Atlassian  Enrique Salem (Bain Capital Ventures); Heather...   \n",
       "26  Salesforce  Alan Hassenfeld (Salesforce); Colin Powell (Kl...   \n",
       "\n",
       "                                 Former Board Members  \\\n",
       "1   Doug Burgum; Jay Parikh (Facebook); Kirk Bowma...   \n",
       "26  Allen Miner (SunBridge); Craig Ramsey (Vlocity...   \n",
       "\n",
       "                     Current Board Advisors/Observers  \\\n",
       "1                                                       \n",
       "26  Andrea Gaspar; Eiji Uda; Julie Hansen; Sandi M...   \n",
       "\n",
       "                      Former Board Advisors/Observers  \\\n",
       "1                                                       \n",
       "26  Geoffrey Moore (Wildcat Venture Partners); Yia...   \n",
       "\n",
       "                                      Investors (All)  \\\n",
       "1   Accel; Dragoneer Investment Group; ESO Fund; T...   \n",
       "26  Allen Miner; Attractor Investment Management; ...   \n",
       "\n",
       "                                  Investors (w/ Info)  \\\n",
       "1   Secondary Market (Accel; Dragoneer Investment ...   \n",
       "26  Series A (Dave Moellenhoff; Marc Benioff; Park...   \n",
       "\n",
       "                            Company UUID  \n",
       "1   7cb65346-6b0f-b133-ed27-21fcb25104ad  \n",
       "26  f5c477fa-6e8c-3d64-4f2d-3603e5cc3340  "
      ]
     },
     "execution_count": 2,
     "metadata": {},
     "output_type": "execute_result"
    }
   ],
   "source": [
    "%%time \n",
    "!python -m company_mapper input.txt 'False'\n",
    "\n",
    "# Read in results and print sample output\n",
    "df = pd.read_csv('output.csv').fillna('')\n",
    "ex = df.index[df['Company'].isin(['Atlassian','Salesforce'])].to_list()\n",
    "df.loc[ex,:]"
   ]
  },
  {
   "cell_type": "markdown",
   "metadata": {},
   "source": [
    "## Update tab in Google Spreadsheet"
   ]
  },
  {
   "cell_type": "code",
   "execution_count": 3,
   "metadata": {},
   "outputs": [
    {
     "name": "stdout",
     "output_type": "stream",
     "text": [
      "Please review results here:\n",
      "https://docs.google.com/spreadsheets/d/1HkZaTlfSII1HNyZb-3KOwco5wvyH4DAc0y3n92EyEU8/edit#gid=992372828\n"
     ]
    }
   ],
   "source": [
    "# Read in results and merge w/ Board Mapping tab\n",
    "merged = pd.merge(BoardMapping[['Company','Equity Model','Board Members (Verified)']], df.copy(), on='Company', how='outer').fillna('')\n",
    "\n",
    "# Update Board Mapping tab\n",
    "from df2gspread import df2gspread as d2g \n",
    "wks_name = 'Board Mapping'\n",
    "d2g.upload(merged, spreadsheet_key, wks_name, credentials=credentials, row_names=True)\n",
    "print(\"Please review results here:\\nhttps://docs.google.com/spreadsheets/d/1HkZaTlfSII1HNyZb-3KOwco5wvyH4DAc0y3n92EyEU8/edit#gid=992372828\")"
   ]
  }
 ],
 "metadata": {
  "kernelspec": {
   "display_name": "Python 3",
   "language": "python",
   "name": "python3"
  },
  "language_info": {
   "codemirror_mode": {
    "name": "ipython",
    "version": 3
   },
   "file_extension": ".py",
   "mimetype": "text/x-python",
   "name": "python",
   "nbconvert_exporter": "python",
   "pygments_lexer": "ipython3",
   "version": "3.8.5"
  }
 },
 "nbformat": 4,
 "nbformat_minor": 4
}
