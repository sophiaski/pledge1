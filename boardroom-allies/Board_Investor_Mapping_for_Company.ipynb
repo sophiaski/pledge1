{
 "cells": [
  {
   "cell_type": "markdown",
   "metadata": {},
   "source": [
    "# Creating custom string fields for salesforce instance\n",
    "## Example for one input company\n",
    "\n",
    "**Last Updated: January 22, 2021** | Created by <a href='https://www.linkedin.com/in/sophiaskowronski/'>Sophia Skowronski</a> | Data sourced from the <a href='http://www.crunchbase.com/'>Crunchbase API</a> via Pledge 1%'s Enterprise License Agreement\n",
    "\n",
    "Given an input company, generate dataframe of customized strings of affiliated individuals and companies:\n",
    "\n",
    "- Current Board Members\n",
    "- Former Board Members\n",
    "- Current Board Advisors/Observers\n",
    "- Former Board Advisors/Observers\n",
    "- All Investors\n",
    "- All Investors, grouped by financing type"
   ]
  },
  {
   "cell_type": "markdown",
   "metadata": {},
   "source": [
    "## Define `search_input`"
   ]
  },
  {
   "cell_type": "code",
   "execution_count": 1,
   "metadata": {},
   "outputs": [],
   "source": [
    "###################################################\n",
    "# PUT LIST OF COMPANY NAME(S) INTO `search_input` #\n",
    "###################################################\n",
    "\n",
    "# Company Search\n",
    "search_input = ['Atlassian','Salesforce']\n",
    "\n",
    "# Write to input text file\n",
    "with open('input.txt', 'w') as f:\n",
    "    for idx,item in enumerate(search_input):\n",
    "        if idx != len(search_input)-1:\n",
    "            f.write(\"%s\\n\" % item)\n",
    "        else:\n",
    "            f.write(\"%s\" % item)"
   ]
  },
  {
   "cell_type": "markdown",
   "metadata": {},
   "source": [
    "## Run `company_mapper.py`"
   ]
  },
  {
   "cell_type": "code",
   "execution_count": 2,
   "metadata": {
    "scrolled": false
   },
   "outputs": [
    {
     "name": "stdout",
     "output_type": "stream",
     "text": [
      "COUNT TO 2: 1 Searching for ATLASSIAN\n",
      "**************************************************\n",
      "Found ATLASSIAN !!!!!!!\n",
      "Description: Atlassian provides collaboration, development, and issue tracking software for teams.\n",
      "\n",
      "2 Searching for SALESFORCE\n",
      "**************************************************\n",
      "Found SALESFORCE !!!!!!!\n",
      "Description: Salesforce is a global cloud computing company that develops CRM solutions and provides business software on a subscription basis.\n",
      "\n",
      "\n",
      "\n",
      "AFFILIATIONS\n",
      "Number of companies: 2\n",
      "Total affiliations found: 42\n",
      "Total unique affiliations found: 42\n",
      "\n",
      "Count of primary_info API calls, number of unique individuals found in query:\n",
      "1 2 3 4 5 6 7 8 9 10 11 12 13 14 15 16 17 18 19 20 21 22 23 24 25 26 27 28 29 30 31 32 33 34 35 36 37 38 39 40 41 42 \n",
      "\n",
      "10 out of 42 records are missing either a primary job title, primary organization, or LinkedIn url.\n",
      "\n",
      "INVESTMENTS\n",
      "Number of companies: 2\n",
      "Total investments found: 33\n",
      "Total unique investors found: 25\n",
      "\n",
      "**************************************************\n",
      "Results for Atlassian\n",
      "**************************************************\n",
      "CURRENT BOARD MEMBERS:\n",
      "Enrique Salem (Bain Capital Ventures); Heather Mirjahangir (Solv); Jeremiah Daly (Elephant); Mike Cannon-Brookes (Atlassian); Richard Wong (Accel); Shona Brown; Steve Sordello (LinkedIn)\n",
      "\n",
      "\n",
      "FORMER BOARD MEMBERS:\n",
      "Doug Burgum; Jay Parikh (Facebook); Kirk Bowman (Accel); Murray Demo (Citrix Systems); Ryan Sweeney (Accel)\n",
      "\n",
      "\n",
      "CURRENT BOARD ADVISORS/OBSERVERS:\n",
      "\n",
      "\n",
      "\n",
      "FORMER BOARD ADVISORS/OBSERVERS:\n",
      "\n",
      "\n",
      "\n",
      "INVESTORS (ALL):\n",
      "Accel; Dragoneer Investment Group; ESO Fund; T. Rowe Price\n",
      "\n",
      "\n",
      "INVESTORS (W/ INFO):\n",
      "Secondary Market (Accel; Dragoneer Investment Group; ESO Fund; T. Rowe Price)\n",
      "\n",
      "\n",
      "COMPANY UUID:\n",
      "7cb65346-6b0f-b133-ed27-21fcb25104ad\n",
      "\n",
      "\n",
      "**************************************************\n",
      "Results for Salesforce\n",
      "**************************************************\n",
      "CURRENT BOARD MEMBERS:\n",
      "Alan Hassenfeld (Salesforce); Colin Powell (Kleiner Perkins); Craig Conway (Salesforce); John Roos (Geodesic Capital); Larry Tomlinson (Salesforce); Magdalena Yesil (Broadway Angels); Marc Benioff (Salesforce); Maynard Webb (Webb Investment Network); Nathan Totten; Neelie Kroes (StartupDelta); Robin Washington; Sandy Robertson (Francisco Partners); Sanford Robertson (Salesforce); Susan Wojcicki (YouTube)\n",
      "\n",
      "\n",
      "FORMER BOARD MEMBERS:\n",
      "Allen Miner (SunBridge); Craig Ramsey (Vlocity); Frank Veenendaal (NewVoiceMedia); Ian Sigalow (Greycroft); Paul Hsiao (Canvas Ventures); Paul Madera (Meritech Capital Partners); Scott Sandell (New Enterprise Associates); Tan Hooi Ling (Grab); Thomas Lah (TSIA); Tigh Loughhead (forcery)\n",
      "\n",
      "\n",
      "CURRENT BOARD ADVISORS/OBSERVERS:\n",
      "Andrea Gaspar; Eiji Uda; Julie Hansen; Sandi Mays (Zayo)\n",
      "\n",
      "\n",
      "FORMER BOARD ADVISORS/OBSERVERS:\n",
      "Geoffrey Moore (Wildcat Venture Partners); Yiannis Maos (Birmingham Tech (Birmingham Tech Week))\n",
      "\n",
      "\n",
      "INVESTORS (ALL):\n",
      "Allen Miner; Attractor Investment Management; Credit Suisse First Boston; Dave Moellenhoff; Emergence; Halsey Minor; Igor Sill; John Friedenrich; MF Capital; Magdalena Yesil; Marc Benioff; Meritech Capital Partners; Morgenthaler Ventures; New Enterprise Associates; Parker Harris; Patrick McGovern; Stratton Sclavos; SunBridge; Ted Waitt; WR Hambrecht; William Hambrecht\n",
      "\n",
      "\n",
      "INVESTORS (W/ INFO):\n",
      "Series A (Dave Moellenhoff; Marc Benioff; Parker Harris) | Series B (Dave Moellenhoff; Halsey Minor; Magdalena Yesil; Marc Benioff; Parker Harris) | Series C (Halsey Minor; Igor Sill; John Friedenrich; Marc Benioff; Patrick McGovern; William Hambrecht) | Series D (Allen Miner; Attractor Investment Management; Credit Suisse First Boston; Halsey Minor; MF Capital; Marc Benioff; Meritech Capital Partners; Morgenthaler Ventures; Stratton Sclavos; SunBridge; Ted Waitt; WR Hambrecht; William Hambrecht) | Venture Round (Emergence; New Enterprise Associates)\n",
      "\n",
      "\n",
      "COMPANY UUID:\n",
      "f5c477fa-6e8c-3d64-4f2d-3603e5cc3340\n",
      "\n",
      "\n",
      "\n",
      "RESULTS WRITTEN TO output.csv\n",
      "CPU times: user 422 ms, sys: 83.4 ms, total: 506 ms\n",
      "Wall time: 15.4 s\n"
     ]
    }
   ],
   "source": [
    "%%time \n",
    "!python -m company_mapper input.txt \"True\""
   ]
  },
  {
   "cell_type": "markdown",
   "metadata": {},
   "source": [
    "## Check out dataframe"
   ]
  },
  {
   "cell_type": "code",
   "execution_count": 3,
   "metadata": {},
   "outputs": [
    {
     "data": {
      "text/html": [
       "<div>\n",
       "<style scoped>\n",
       "    .dataframe tbody tr th:only-of-type {\n",
       "        vertical-align: middle;\n",
       "    }\n",
       "\n",
       "    .dataframe tbody tr th {\n",
       "        vertical-align: top;\n",
       "    }\n",
       "\n",
       "    .dataframe thead th {\n",
       "        text-align: right;\n",
       "    }\n",
       "</style>\n",
       "<table border=\"1\" class=\"dataframe\">\n",
       "  <thead>\n",
       "    <tr style=\"text-align: right;\">\n",
       "      <th></th>\n",
       "      <th>Company</th>\n",
       "      <th>Current Board Members</th>\n",
       "      <th>Former Board Members</th>\n",
       "      <th>Current Board Advisors/Observers</th>\n",
       "      <th>Former Board Advisors/Observers</th>\n",
       "      <th>Investors (All)</th>\n",
       "      <th>Investors (w/ Info)</th>\n",
       "      <th>Company UUID</th>\n",
       "    </tr>\n",
       "  </thead>\n",
       "  <tbody>\n",
       "    <tr>\n",
       "      <th>0</th>\n",
       "      <td>Atlassian</td>\n",
       "      <td>Enrique Salem (Bain Capital Ventures); Heather...</td>\n",
       "      <td>Doug Burgum; Jay Parikh (Facebook); Kirk Bowma...</td>\n",
       "      <td></td>\n",
       "      <td></td>\n",
       "      <td>Accel; Dragoneer Investment Group; ESO Fund; T...</td>\n",
       "      <td>Secondary Market (Accel; Dragoneer Investment ...</td>\n",
       "      <td>7cb65346-6b0f-b133-ed27-21fcb25104ad</td>\n",
       "    </tr>\n",
       "    <tr>\n",
       "      <th>1</th>\n",
       "      <td>Salesforce</td>\n",
       "      <td>Alan Hassenfeld (Salesforce); Colin Powell (Kl...</td>\n",
       "      <td>Allen Miner (SunBridge); Craig Ramsey (Vlocity...</td>\n",
       "      <td>Andrea Gaspar; Eiji Uda; Julie Hansen; Sandi M...</td>\n",
       "      <td>Geoffrey Moore (Wildcat Venture Partners); Yia...</td>\n",
       "      <td>Allen Miner; Attractor Investment Management; ...</td>\n",
       "      <td>Series A (Dave Moellenhoff; Marc Benioff; Park...</td>\n",
       "      <td>f5c477fa-6e8c-3d64-4f2d-3603e5cc3340</td>\n",
       "    </tr>\n",
       "  </tbody>\n",
       "</table>\n",
       "</div>"
      ],
      "text/plain": [
       "      Company                              Current Board Members  \\\n",
       "0   Atlassian  Enrique Salem (Bain Capital Ventures); Heather...   \n",
       "1  Salesforce  Alan Hassenfeld (Salesforce); Colin Powell (Kl...   \n",
       "\n",
       "                                Former Board Members  \\\n",
       "0  Doug Burgum; Jay Parikh (Facebook); Kirk Bowma...   \n",
       "1  Allen Miner (SunBridge); Craig Ramsey (Vlocity...   \n",
       "\n",
       "                    Current Board Advisors/Observers  \\\n",
       "0                                                      \n",
       "1  Andrea Gaspar; Eiji Uda; Julie Hansen; Sandi M...   \n",
       "\n",
       "                     Former Board Advisors/Observers  \\\n",
       "0                                                      \n",
       "1  Geoffrey Moore (Wildcat Venture Partners); Yia...   \n",
       "\n",
       "                                     Investors (All)  \\\n",
       "0  Accel; Dragoneer Investment Group; ESO Fund; T...   \n",
       "1  Allen Miner; Attractor Investment Management; ...   \n",
       "\n",
       "                                 Investors (w/ Info)  \\\n",
       "0  Secondary Market (Accel; Dragoneer Investment ...   \n",
       "1  Series A (Dave Moellenhoff; Marc Benioff; Park...   \n",
       "\n",
       "                           Company UUID  \n",
       "0  7cb65346-6b0f-b133-ed27-21fcb25104ad  \n",
       "1  f5c477fa-6e8c-3d64-4f2d-3603e5cc3340  "
      ]
     },
     "execution_count": 3,
     "metadata": {},
     "output_type": "execute_result"
    }
   ],
   "source": [
    "import pandas as pd\n",
    "df = pd.read_csv('output.csv').fillna('')\n",
    "df.head()"
   ]
  },
  {
   "cell_type": "markdown",
   "metadata": {},
   "source": [
    "## Visualization of Relationships w/ turicreate & NetworkX: TBD"
   ]
  }
 ],
 "metadata": {
  "kernelspec": {
   "display_name": "Python 3",
   "language": "python",
   "name": "python3"
  },
  "language_info": {
   "codemirror_mode": {
    "name": "ipython",
    "version": 3
   },
   "file_extension": ".py",
   "mimetype": "text/x-python",
   "name": "python",
   "nbconvert_exporter": "python",
   "pygments_lexer": "ipython3",
   "version": "3.8.5"
  }
 },
 "nbformat": 4,
 "nbformat_minor": 4
}
