{
 "cells": [
  {
   "cell_type": "markdown",
   "metadata": {},
   "source": [
    "# Creating custom string fields for salesforce instance\n",
    "## Example for one input company\n",
    "\n",
    "**Last Updated: January 10, 2021** | Created by <a href='https://www.linkedin.com/in/sophiaskowronski/'>Sophia Skowronski</a> | Data sourced from <a href='http://www.crunchbase.com/'>Crunchbase</a> via Pledge 1%'s Enterprise License Agreement\n",
    "\n",
    "Given an input company, generate dataframe of customized strings of affiliated individuals and companies:\n",
    "\n",
    "- Current Board Members\n",
    "- Former Board Members\n",
    "- Current Board Advisors/Observers\n",
    "- Former Board Advisors/Observers\n",
    "- All Investors\n",
    "- All Investors, grouped by financing type\n",
    "\n",
    "## Define `search_input`"
   ]
  },
  {
   "cell_type": "code",
   "execution_count": 1,
   "metadata": {},
   "outputs": [],
   "source": [
    "##############################################\n",
    "# PUT ORGANIZATION NAME(S) INTO `search_input` #\n",
    "##############################################\n",
    "\n",
    "import pandas as pd \n",
    "\n",
    "# P1 Equity Company List\n",
    "#search_input = sorted(pd.read_csv(\"input/Boardroom Allies Tracker - company_search_terms.csv\").Company.to_list())\n",
    "\n",
    "# Company Search\n",
    "search_input = ['Salesforce']\n",
    "\n",
    "with open('input.txt', 'w') as f:\n",
    "    for idx,item in enumerate(search_input):\n",
    "        if idx != len(search_input)-1:\n",
    "            f.write(\"%s\\n\" % item)\n",
    "        else:\n",
    "            f.write(\"%s\" % item)"
   ]
  },
  {
   "cell_type": "markdown",
   "metadata": {},
   "source": [
    "## Run"
   ]
  },
  {
   "cell_type": "code",
   "execution_count": 2,
   "metadata": {
    "scrolled": false
   },
   "outputs": [
    {
     "name": "stdout",
     "output_type": "stream",
     "text": [
      "['Salesforce']\n",
      "COUNT TO 1: 1 \n",
      "\n",
      "AFFILIATIONS\n",
      "Number of companies: 1\n",
      "Total affiliations found: 30\n",
      "Total unique affiliations found: 30\n",
      "\n",
      "Count of primary_info API calls, number of unique individuals found in query:\n",
      "1 2 3 4 5 6 7 8 9 10 11 12 13 14 15 16 17 18 19 20 21 22 23 24 25 26 27 28 29 30 \n",
      "\n",
      "9 out of 30 records are missing either a primary job title, primary organization, or LinkedIn url.\n",
      "\n",
      "INVESTMENTS\n",
      "Number of companies: 1\n",
      "Total investments found: 29\n",
      "Total unique investors found: 21\n",
      "\n",
      "**************************************************\n",
      "Results for SALESFORCE\n",
      "**************************************************\n",
      "UUID:\n",
      "f5c477fa-6e8c-3d64-4f2d-3603e5cc3340\n",
      "\n",
      "\n",
      "COMPANY:\n",
      "Salesforce\n",
      "\n",
      "\n",
      "CURRENT BOARD MEMBERS:\n",
      "Alan Hassenfeld (Salesforce); Colin Powell (Kleiner Perkins); Craig Conway (Salesforce); John Roos (Geodesic Capital); Larry Tomlinson (Salesforce); Magdalena Yesil (Broadway Angels); Marc Benioff (Salesforce); Maynard Webb (Webb Investment Network); Nathan Totten; Neelie Kroes (StartupDelta); Robin Washington; Sandy Robertson (Francisco Partners); Sanford Robertson (Salesforce); Susan Wojcicki (YouTube)\n",
      "\n",
      "\n",
      "FORMER BOARD MEMBERS:\n",
      "Allen Miner (SunBridge); Craig Ramsey (Vlocity); Frank Veenendaal (NewVoiceMedia); Ian Sigalow (Greycroft); Paul Hsiao (Canvas Ventures); Paul Madera (Meritech Capital Partners); Scott Sandell (New Enterprise Associates); Tan Hooi Ling (Grab); Thomas Lah (TSIA); Tigh Loughhead\n",
      "\n",
      "\n",
      "CURRENT BOARD ADVISORS/OBSERVERS:\n",
      "Andrea Gaspar; Eiji Uda; Julie Hansen; Sandi Mays (Zayo)\n",
      "\n",
      "\n",
      "FORMER BOARD ADVISORS/OBSERVERS:\n",
      "Geoffrey Moore (Wildcat Venture Partners); Yiannis Maos (Birmingham Tech (Birmingham Tech Week))\n",
      "\n",
      "\n",
      "INVESTORS (ALL):\n",
      "Allen Miner; Attractor Investment Management; Credit Suisse First Boston; Dave Moellenhoff; Emergence; Halsey Minor; Igor Sill; John Friedenrich; MF Capital; Magdalena Yesil; Marc Benioff; Meritech Capital Partners; Morgenthaler Ventures; New Enterprise Associates; Parker Harris; Patrick McGovern; Stratton Sclavos; SunBridge; Ted Waitt; WR Hambrecht; William Hambrecht\n",
      "\n",
      "\n",
      "INVESTORS (W/ INFO):\n",
      "Series A (Dave Moellenhoff; Marc Benioff; Parker Harris) | Series B (Dave Moellenhoff; Halsey Minor; Magdalena Yesil; Marc Benioff; Parker Harris) | Series C (Halsey Minor; Igor Sill; John Friedenrich; Marc Benioff; Patrick McGovern; William Hambrecht) | Series D (Allen Miner; Attractor Investment Management; Credit Suisse First Boston; Halsey Minor; MF Capital; Marc Benioff; Meritech Capital Partners; Morgenthaler Ventures; Stratton Sclavos; SunBridge; Ted Waitt; WR Hambrecht; William Hambrecht) | Venture Round (Emergence; New Enterprise Associates)\n",
      "\n",
      "\n",
      "Wall time: 32.1 s\n"
     ]
    },
    {
     "data": {
      "text/html": [
       "<div>\n",
       "<style scoped>\n",
       "    .dataframe tbody tr th:only-of-type {\n",
       "        vertical-align: middle;\n",
       "    }\n",
       "\n",
       "    .dataframe tbody tr th {\n",
       "        vertical-align: top;\n",
       "    }\n",
       "\n",
       "    .dataframe thead th {\n",
       "        text-align: right;\n",
       "    }\n",
       "</style>\n",
       "<table border=\"1\" class=\"dataframe\">\n",
       "  <thead>\n",
       "    <tr style=\"text-align: right;\">\n",
       "      <th></th>\n",
       "      <th>uuid</th>\n",
       "      <th>Company</th>\n",
       "      <th>Current Board Members</th>\n",
       "      <th>Former Board Members</th>\n",
       "      <th>Current Board Advisors/Observers</th>\n",
       "      <th>Former Board Advisors/Observers</th>\n",
       "      <th>Investors (All)</th>\n",
       "      <th>Investors (w/ Info)</th>\n",
       "    </tr>\n",
       "  </thead>\n",
       "  <tbody>\n",
       "    <tr>\n",
       "      <th>0</th>\n",
       "      <td>f5c477fa-6e8c-3d64-4f2d-3603e5cc3340</td>\n",
       "      <td>Salesforce</td>\n",
       "      <td>Alan Hassenfeld (Salesforce); Colin Powell (Kl...</td>\n",
       "      <td>Allen Miner (SunBridge); Craig Ramsey (Vlocity...</td>\n",
       "      <td>Andrea Gaspar; Eiji Uda; Julie Hansen; Sandi M...</td>\n",
       "      <td>Geoffrey Moore (Wildcat Venture Partners); Yia...</td>\n",
       "      <td>Allen Miner; Attractor Investment Management; ...</td>\n",
       "      <td>Series A (Dave Moellenhoff; Marc Benioff; Park...</td>\n",
       "    </tr>\n",
       "  </tbody>\n",
       "</table>\n",
       "</div>"
      ],
      "text/plain": [
       "                                   uuid     Company  \\\n",
       "0  f5c477fa-6e8c-3d64-4f2d-3603e5cc3340  Salesforce   \n",
       "\n",
       "                               Current Board Members  \\\n",
       "0  Alan Hassenfeld (Salesforce); Colin Powell (Kl...   \n",
       "\n",
       "                                Former Board Members  \\\n",
       "0  Allen Miner (SunBridge); Craig Ramsey (Vlocity...   \n",
       "\n",
       "                    Current Board Advisors/Observers  \\\n",
       "0  Andrea Gaspar; Eiji Uda; Julie Hansen; Sandi M...   \n",
       "\n",
       "                     Former Board Advisors/Observers  \\\n",
       "0  Geoffrey Moore (Wildcat Venture Partners); Yia...   \n",
       "\n",
       "                                     Investors (All)  \\\n",
       "0  Allen Miner; Attractor Investment Management; ...   \n",
       "\n",
       "                                 Investors (w/ Info)  \n",
       "0  Series A (Dave Moellenhoff; Marc Benioff; Park...  "
      ]
     },
     "execution_count": 2,
     "metadata": {},
     "output_type": "execute_result"
    }
   ],
   "source": [
    "%%time \n",
    "!python -m company_mapper input.txt \"False\"\n",
    "\n",
    "pd.read_csv('output.csv')"
   ]
  },
  {
   "cell_type": "markdown",
   "metadata": {},
   "source": [
    "## Visualization of Relationships w/ turicreate & NetworkX: TBD"
   ]
  }
 ],
 "metadata": {
  "kernelspec": {
   "display_name": "Python 3",
   "language": "python",
   "name": "python3"
  },
  "language_info": {
   "codemirror_mode": {
    "name": "ipython",
    "version": 3
   },
   "file_extension": ".py",
   "mimetype": "text/x-python",
   "name": "python",
   "nbconvert_exporter": "python",
   "pygments_lexer": "ipython3",
   "version": "3.7.3"
  }
 },
 "nbformat": 4,
 "nbformat_minor": 4
}
